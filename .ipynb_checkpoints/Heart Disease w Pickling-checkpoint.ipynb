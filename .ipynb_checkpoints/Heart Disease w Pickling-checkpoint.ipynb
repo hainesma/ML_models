{
 "cells": [
  {
   "cell_type": "code",
   "execution_count": 18,
   "metadata": {},
   "outputs": [],
   "source": [
    "\n",
    "# Basic\n",
    "import numpy as np\n",
    "import pandas as pd\n",
    "import matplotlib.pyplot as plt\n",
    "from matplotlib import rcParams\n",
    "from matplotlib.cm import rainbow\n",
    "%matplotlib inline\n",
    "import warnings\n",
    "warnings.filterwarnings('ignore')\n",
    "\n",
    "# Other libraries\n",
    "from sklearn.model_selection import train_test_split\n",
    "from sklearn.preprocessing import StandardScaler\n",
    "\n",
    "# Machine Learning\n",
    "from sklearn.neighbors import KNeighborsClassifier\n",
    "from sklearn.svm import SVC\n",
    "from sklearn.tree import DecisionTreeClassifier\n",
    "from sklearn.ensemble import RandomForestClassifier"
   ]
  },
  {
   "cell_type": "code",
   "execution_count": 19,
   "metadata": {},
   "outputs": [],
   "source": [
    "dataset = pd.read_csv('./heart.csv')"
   ]
  },
  {
   "cell_type": "code",
   "execution_count": 20,
   "metadata": {},
   "outputs": [
    {
     "name": "stdout",
     "output_type": "stream",
     "text": [
      "<class 'pandas.core.frame.DataFrame'>\n",
      "RangeIndex: 303 entries, 0 to 302\n",
      "Data columns (total 14 columns):\n",
      "age         303 non-null int64\n",
      "sex         303 non-null int64\n",
      "cp          303 non-null int64\n",
      "trestbps    303 non-null int64\n",
      "chol        303 non-null int64\n",
      "fbs         303 non-null int64\n",
      "restecg     303 non-null int64\n",
      "thalach     303 non-null int64\n",
      "exang       303 non-null int64\n",
      "oldpeak     303 non-null float64\n",
      "slope       303 non-null int64\n",
      "ca          303 non-null int64\n",
      "thal        303 non-null int64\n",
      "target      303 non-null int64\n",
      "dtypes: float64(1), int64(13)\n",
      "memory usage: 33.2 KB\n"
     ]
    }
   ],
   "source": [
    "dataset.info()"
   ]
  },
  {
   "cell_type": "code",
   "execution_count": 63,
   "metadata": {},
   "outputs": [
    {
     "name": "stdout",
     "output_type": "stream",
     "text": [
      "        age  trestbps     chol   thalach   oldpeak  target  sex_0  sex_1  \\\n",
      "4  0.290464 -0.663867  2.08205  0.583939 -0.379244       1      1      0   \n",
      "\n",
      "   cp_0  cp_1   ...    slope_2  ca_0  ca_1  ca_2  ca_3  ca_4  thal_0  thal_1  \\\n",
      "4     1     0   ...          1     1     0     0     0     0       0       0   \n",
      "\n",
      "   thal_2  thal_3  \n",
      "4       1       0  \n",
      "\n",
      "[1 rows x 31 columns]\n"
     ]
    }
   ],
   "source": [
    "print(dataset[4:5])"
   ]
  },
  {
   "cell_type": "code",
   "execution_count": 21,
   "metadata": {},
   "outputs": [
    {
     "data": {
      "text/html": [
       "<div>\n",
       "<style scoped>\n",
       "    .dataframe tbody tr th:only-of-type {\n",
       "        vertical-align: middle;\n",
       "    }\n",
       "\n",
       "    .dataframe tbody tr th {\n",
       "        vertical-align: top;\n",
       "    }\n",
       "\n",
       "    .dataframe thead th {\n",
       "        text-align: right;\n",
       "    }\n",
       "</style>\n",
       "<table border=\"1\" class=\"dataframe\">\n",
       "  <thead>\n",
       "    <tr style=\"text-align: right;\">\n",
       "      <th></th>\n",
       "      <th>age</th>\n",
       "      <th>sex</th>\n",
       "      <th>cp</th>\n",
       "      <th>trestbps</th>\n",
       "      <th>chol</th>\n",
       "      <th>fbs</th>\n",
       "      <th>restecg</th>\n",
       "      <th>thalach</th>\n",
       "      <th>exang</th>\n",
       "      <th>oldpeak</th>\n",
       "      <th>slope</th>\n",
       "      <th>ca</th>\n",
       "      <th>thal</th>\n",
       "      <th>target</th>\n",
       "    </tr>\n",
       "  </thead>\n",
       "  <tbody>\n",
       "    <tr>\n",
       "      <th>count</th>\n",
       "      <td>303.000000</td>\n",
       "      <td>303.000000</td>\n",
       "      <td>303.000000</td>\n",
       "      <td>303.000000</td>\n",
       "      <td>303.000000</td>\n",
       "      <td>303.000000</td>\n",
       "      <td>303.000000</td>\n",
       "      <td>303.000000</td>\n",
       "      <td>303.000000</td>\n",
       "      <td>303.000000</td>\n",
       "      <td>303.000000</td>\n",
       "      <td>303.000000</td>\n",
       "      <td>303.000000</td>\n",
       "      <td>303.000000</td>\n",
       "    </tr>\n",
       "    <tr>\n",
       "      <th>mean</th>\n",
       "      <td>54.366337</td>\n",
       "      <td>0.683168</td>\n",
       "      <td>0.966997</td>\n",
       "      <td>131.623762</td>\n",
       "      <td>246.264026</td>\n",
       "      <td>0.148515</td>\n",
       "      <td>0.528053</td>\n",
       "      <td>149.646865</td>\n",
       "      <td>0.326733</td>\n",
       "      <td>1.039604</td>\n",
       "      <td>1.399340</td>\n",
       "      <td>0.729373</td>\n",
       "      <td>2.313531</td>\n",
       "      <td>0.544554</td>\n",
       "    </tr>\n",
       "    <tr>\n",
       "      <th>std</th>\n",
       "      <td>9.082101</td>\n",
       "      <td>0.466011</td>\n",
       "      <td>1.032052</td>\n",
       "      <td>17.538143</td>\n",
       "      <td>51.830751</td>\n",
       "      <td>0.356198</td>\n",
       "      <td>0.525860</td>\n",
       "      <td>22.905161</td>\n",
       "      <td>0.469794</td>\n",
       "      <td>1.161075</td>\n",
       "      <td>0.616226</td>\n",
       "      <td>1.022606</td>\n",
       "      <td>0.612277</td>\n",
       "      <td>0.498835</td>\n",
       "    </tr>\n",
       "    <tr>\n",
       "      <th>min</th>\n",
       "      <td>29.000000</td>\n",
       "      <td>0.000000</td>\n",
       "      <td>0.000000</td>\n",
       "      <td>94.000000</td>\n",
       "      <td>126.000000</td>\n",
       "      <td>0.000000</td>\n",
       "      <td>0.000000</td>\n",
       "      <td>71.000000</td>\n",
       "      <td>0.000000</td>\n",
       "      <td>0.000000</td>\n",
       "      <td>0.000000</td>\n",
       "      <td>0.000000</td>\n",
       "      <td>0.000000</td>\n",
       "      <td>0.000000</td>\n",
       "    </tr>\n",
       "    <tr>\n",
       "      <th>25%</th>\n",
       "      <td>47.500000</td>\n",
       "      <td>0.000000</td>\n",
       "      <td>0.000000</td>\n",
       "      <td>120.000000</td>\n",
       "      <td>211.000000</td>\n",
       "      <td>0.000000</td>\n",
       "      <td>0.000000</td>\n",
       "      <td>133.500000</td>\n",
       "      <td>0.000000</td>\n",
       "      <td>0.000000</td>\n",
       "      <td>1.000000</td>\n",
       "      <td>0.000000</td>\n",
       "      <td>2.000000</td>\n",
       "      <td>0.000000</td>\n",
       "    </tr>\n",
       "    <tr>\n",
       "      <th>50%</th>\n",
       "      <td>55.000000</td>\n",
       "      <td>1.000000</td>\n",
       "      <td>1.000000</td>\n",
       "      <td>130.000000</td>\n",
       "      <td>240.000000</td>\n",
       "      <td>0.000000</td>\n",
       "      <td>1.000000</td>\n",
       "      <td>153.000000</td>\n",
       "      <td>0.000000</td>\n",
       "      <td>0.800000</td>\n",
       "      <td>1.000000</td>\n",
       "      <td>0.000000</td>\n",
       "      <td>2.000000</td>\n",
       "      <td>1.000000</td>\n",
       "    </tr>\n",
       "    <tr>\n",
       "      <th>75%</th>\n",
       "      <td>61.000000</td>\n",
       "      <td>1.000000</td>\n",
       "      <td>2.000000</td>\n",
       "      <td>140.000000</td>\n",
       "      <td>274.500000</td>\n",
       "      <td>0.000000</td>\n",
       "      <td>1.000000</td>\n",
       "      <td>166.000000</td>\n",
       "      <td>1.000000</td>\n",
       "      <td>1.600000</td>\n",
       "      <td>2.000000</td>\n",
       "      <td>1.000000</td>\n",
       "      <td>3.000000</td>\n",
       "      <td>1.000000</td>\n",
       "    </tr>\n",
       "    <tr>\n",
       "      <th>max</th>\n",
       "      <td>77.000000</td>\n",
       "      <td>1.000000</td>\n",
       "      <td>3.000000</td>\n",
       "      <td>200.000000</td>\n",
       "      <td>564.000000</td>\n",
       "      <td>1.000000</td>\n",
       "      <td>2.000000</td>\n",
       "      <td>202.000000</td>\n",
       "      <td>1.000000</td>\n",
       "      <td>6.200000</td>\n",
       "      <td>2.000000</td>\n",
       "      <td>4.000000</td>\n",
       "      <td>3.000000</td>\n",
       "      <td>1.000000</td>\n",
       "    </tr>\n",
       "  </tbody>\n",
       "</table>\n",
       "</div>"
      ],
      "text/plain": [
       "              age         sex          cp    trestbps        chol         fbs  \\\n",
       "count  303.000000  303.000000  303.000000  303.000000  303.000000  303.000000   \n",
       "mean    54.366337    0.683168    0.966997  131.623762  246.264026    0.148515   \n",
       "std      9.082101    0.466011    1.032052   17.538143   51.830751    0.356198   \n",
       "min     29.000000    0.000000    0.000000   94.000000  126.000000    0.000000   \n",
       "25%     47.500000    0.000000    0.000000  120.000000  211.000000    0.000000   \n",
       "50%     55.000000    1.000000    1.000000  130.000000  240.000000    0.000000   \n",
       "75%     61.000000    1.000000    2.000000  140.000000  274.500000    0.000000   \n",
       "max     77.000000    1.000000    3.000000  200.000000  564.000000    1.000000   \n",
       "\n",
       "          restecg     thalach       exang     oldpeak       slope          ca  \\\n",
       "count  303.000000  303.000000  303.000000  303.000000  303.000000  303.000000   \n",
       "mean     0.528053  149.646865    0.326733    1.039604    1.399340    0.729373   \n",
       "std      0.525860   22.905161    0.469794    1.161075    0.616226    1.022606   \n",
       "min      0.000000   71.000000    0.000000    0.000000    0.000000    0.000000   \n",
       "25%      0.000000  133.500000    0.000000    0.000000    1.000000    0.000000   \n",
       "50%      1.000000  153.000000    0.000000    0.800000    1.000000    0.000000   \n",
       "75%      1.000000  166.000000    1.000000    1.600000    2.000000    1.000000   \n",
       "max      2.000000  202.000000    1.000000    6.200000    2.000000    4.000000   \n",
       "\n",
       "             thal      target  \n",
       "count  303.000000  303.000000  \n",
       "mean     2.313531    0.544554  \n",
       "std      0.612277    0.498835  \n",
       "min      0.000000    0.000000  \n",
       "25%      2.000000    0.000000  \n",
       "50%      2.000000    1.000000  \n",
       "75%      3.000000    1.000000  \n",
       "max      3.000000    1.000000  "
      ]
     },
     "execution_count": 21,
     "metadata": {},
     "output_type": "execute_result"
    }
   ],
   "source": [
    "dataset.describe()"
   ]
  },
  {
   "cell_type": "code",
   "execution_count": null,
   "metadata": {},
   "outputs": [],
   "source": []
  },
  {
   "cell_type": "code",
   "execution_count": 22,
   "metadata": {},
   "outputs": [
    {
     "data": {
      "text/plain": [
       "<matplotlib.colorbar.Colorbar at 0x1a24b92f28>"
      ]
     },
     "execution_count": 22,
     "metadata": {},
     "output_type": "execute_result"
    },
    {
     "data": {
      "image/png": "[encoded data removed]",
      "text/plain": [
       "<Figure size 720x720 with 2 Axes>"
      ]
     },
     "metadata": {
      "needs_background": "light"
     },
     "output_type": "display_data"
    }
   ],
   "source": [
    "rcParams['figure.figsize'] = 10, 10\n",
    "plt.matshow(dataset.corr())\n",
    "plt.yticks(np.arange(dataset.shape[1]), dataset.columns)\n",
    "plt.xticks(np.arange(dataset.shape[1]), dataset.columns)\n",
    "plt.colorbar()"
   ]
  },
  {
   "cell_type": "code",
   "execution_count": 23,
   "metadata": {},
   "outputs": [
    {
     "data": {
      "text/plain": [
       "array([[<matplotlib.axes._subplots.AxesSubplot object at 0x1a24b645f8>,\n",
       "        <matplotlib.axes._subplots.AxesSubplot object at 0x1a24b61c50>,\n",
       "        <matplotlib.axes._subplots.AxesSubplot object at 0x1a25a2c198>,\n",
       "        <matplotlib.axes._subplots.AxesSubplot object at 0x1a25a51710>],\n",
       "       [<matplotlib.axes._subplots.AxesSubplot object at 0x1a25a7ac88>,\n",
       "        <matplotlib.axes._subplots.AxesSubplot object at 0x1a25aac240>,\n",
       "        <matplotlib.axes._subplots.AxesSubplot object at 0x1a25ad37b8>,\n",
       "        <matplotlib.axes._subplots.AxesSubplot object at 0x1a25afad68>],\n",
       "       [<matplotlib.axes._subplots.AxesSubplot object at 0x1a25afada0>,\n",
       "        <matplotlib.axes._subplots.AxesSubplot object at 0x1a25b52860>,\n",
       "        <matplotlib.axes._subplots.AxesSubplot object at 0x1a25b7cdd8>,\n",
       "        <matplotlib.axes._subplots.AxesSubplot object at 0x1a25bae390>],\n",
       "       [<matplotlib.axes._subplots.AxesSubplot object at 0x1a25bd5908>,\n",
       "        <matplotlib.axes._subplots.AxesSubplot object at 0x1a25bfde80>,\n",
       "        <matplotlib.axes._subplots.AxesSubplot object at 0x1a25c2e438>,\n",
       "        <matplotlib.axes._subplots.AxesSubplot object at 0x1a25c549b0>]],\n",
       "      dtype=object)"
      ]
     },
     "execution_count": 23,
     "metadata": {},
     "output_type": "execute_result"
    },
    {
     "data": {
      "image/png": "[encoded data removed]",
      "text/plain": [
       "<Figure size 720x576 with 16 Axes>"
      ]
     },
     "metadata": {
      "needs_background": "light"
     },
     "output_type": "display_data"
    }
   ],
   "source": [
    "dataset.hist(figsize = (10,8))"
   ]
  },
  {
   "cell_type": "markdown",
   "metadata": {},
   "source": [
    "### Data Processing"
   ]
  },
  {
   "cell_type": "code",
   "execution_count": 24,
   "metadata": {},
   "outputs": [],
   "source": [
    "# Create dummies for categorical variables in order to quantify them.\n",
    "dataset = pd.get_dummies(dataset, columns = ['sex', 'cp', 'fbs', 'restecg', 'exang', 'slope', 'ca', 'thal'])\n",
    "# Scale variables so they all have the same range. This standardization is important for modeling.\n",
    "standardScaler = StandardScaler()\n",
    "columns_to_scale = ['age', 'trestbps', 'chol', 'thalach', 'oldpeak']\n",
    "dataset[columns_to_scale] = standardScaler.fit_transform(dataset[columns_to_scale])"
   ]
  },
  {
   "cell_type": "code",
   "execution_count": 25,
   "metadata": {},
   "outputs": [
    {
     "data": {
      "text/html": [
       "<div>\n",
       "<style scoped>\n",
       "    .dataframe tbody tr th:only-of-type {\n",
       "        vertical-align: middle;\n",
       "    }\n",
       "\n",
       "    .dataframe tbody tr th {\n",
       "        vertical-align: top;\n",
       "    }\n",
       "\n",
       "    .dataframe thead th {\n",
       "        text-align: right;\n",
       "    }\n",
       "</style>\n",
       "<table border=\"1\" class=\"dataframe\">\n",
       "  <thead>\n",
       "    <tr style=\"text-align: right;\">\n",
       "      <th></th>\n",
       "      <th>age</th>\n",
       "      <th>trestbps</th>\n",
       "      <th>chol</th>\n",
       "      <th>thalach</th>\n",
       "      <th>oldpeak</th>\n",
       "      <th>target</th>\n",
       "      <th>sex_0</th>\n",
       "      <th>sex_1</th>\n",
       "      <th>cp_0</th>\n",
       "      <th>cp_1</th>\n",
       "      <th>...</th>\n",
       "      <th>slope_2</th>\n",
       "      <th>ca_0</th>\n",
       "      <th>ca_1</th>\n",
       "      <th>ca_2</th>\n",
       "      <th>ca_3</th>\n",
       "      <th>ca_4</th>\n",
       "      <th>thal_0</th>\n",
       "      <th>thal_1</th>\n",
       "      <th>thal_2</th>\n",
       "      <th>thal_3</th>\n",
       "    </tr>\n",
       "  </thead>\n",
       "  <tbody>\n",
       "    <tr>\n",
       "      <th>count</th>\n",
       "      <td>3.030000e+02</td>\n",
       "      <td>3.030000e+02</td>\n",
       "      <td>3.030000e+02</td>\n",
       "      <td>3.030000e+02</td>\n",
       "      <td>3.030000e+02</td>\n",
       "      <td>303.000000</td>\n",
       "      <td>303.000000</td>\n",
       "      <td>303.000000</td>\n",
       "      <td>303.000000</td>\n",
       "      <td>303.000000</td>\n",
       "      <td>...</td>\n",
       "      <td>303.000000</td>\n",
       "      <td>303.000000</td>\n",
       "      <td>303.000000</td>\n",
       "      <td>303.000000</td>\n",
       "      <td>303.000000</td>\n",
       "      <td>303.000000</td>\n",
       "      <td>303.000000</td>\n",
       "      <td>303.000000</td>\n",
       "      <td>303.000000</td>\n",
       "      <td>303.000000</td>\n",
       "    </tr>\n",
       "    <tr>\n",
       "      <th>mean</th>\n",
       "      <td>5.825923e-17</td>\n",
       "      <td>-7.146832e-16</td>\n",
       "      <td>-9.828955e-17</td>\n",
       "      <td>-5.203025e-16</td>\n",
       "      <td>-3.140136e-16</td>\n",
       "      <td>0.544554</td>\n",
       "      <td>0.316832</td>\n",
       "      <td>0.683168</td>\n",
       "      <td>0.471947</td>\n",
       "      <td>0.165017</td>\n",
       "      <td>...</td>\n",
       "      <td>0.468647</td>\n",
       "      <td>0.577558</td>\n",
       "      <td>0.214521</td>\n",
       "      <td>0.125413</td>\n",
       "      <td>0.066007</td>\n",
       "      <td>0.016502</td>\n",
       "      <td>0.006601</td>\n",
       "      <td>0.059406</td>\n",
       "      <td>0.547855</td>\n",
       "      <td>0.386139</td>\n",
       "    </tr>\n",
       "    <tr>\n",
       "      <th>std</th>\n",
       "      <td>1.001654e+00</td>\n",
       "      <td>1.001654e+00</td>\n",
       "      <td>1.001654e+00</td>\n",
       "      <td>1.001654e+00</td>\n",
       "      <td>1.001654e+00</td>\n",
       "      <td>0.498835</td>\n",
       "      <td>0.466011</td>\n",
       "      <td>0.466011</td>\n",
       "      <td>0.500038</td>\n",
       "      <td>0.371809</td>\n",
       "      <td>...</td>\n",
       "      <td>0.499842</td>\n",
       "      <td>0.494765</td>\n",
       "      <td>0.411169</td>\n",
       "      <td>0.331734</td>\n",
       "      <td>0.248704</td>\n",
       "      <td>0.127605</td>\n",
       "      <td>0.081110</td>\n",
       "      <td>0.236774</td>\n",
       "      <td>0.498528</td>\n",
       "      <td>0.487668</td>\n",
       "    </tr>\n",
       "    <tr>\n",
       "      <th>min</th>\n",
       "      <td>-2.797624e+00</td>\n",
       "      <td>-2.148802e+00</td>\n",
       "      <td>-2.324160e+00</td>\n",
       "      <td>-3.439267e+00</td>\n",
       "      <td>-8.968617e-01</td>\n",
       "      <td>0.000000</td>\n",
       "      <td>0.000000</td>\n",
       "      <td>0.000000</td>\n",
       "      <td>0.000000</td>\n",
       "      <td>0.000000</td>\n",
       "      <td>...</td>\n",
       "      <td>0.000000</td>\n",
       "      <td>0.000000</td>\n",
       "      <td>0.000000</td>\n",
       "      <td>0.000000</td>\n",
       "      <td>0.000000</td>\n",
       "      <td>0.000000</td>\n",
       "      <td>0.000000</td>\n",
       "      <td>0.000000</td>\n",
       "      <td>0.000000</td>\n",
       "      <td>0.000000</td>\n",
       "    </tr>\n",
       "    <tr>\n",
       "      <th>25%</th>\n",
       "      <td>-7.572802e-01</td>\n",
       "      <td>-6.638668e-01</td>\n",
       "      <td>-6.814943e-01</td>\n",
       "      <td>-7.061105e-01</td>\n",
       "      <td>-8.968617e-01</td>\n",
       "      <td>0.000000</td>\n",
       "      <td>0.000000</td>\n",
       "      <td>0.000000</td>\n",
       "      <td>0.000000</td>\n",
       "      <td>0.000000</td>\n",
       "      <td>...</td>\n",
       "      <td>0.000000</td>\n",
       "      <td>0.000000</td>\n",
       "      <td>0.000000</td>\n",
       "      <td>0.000000</td>\n",
       "      <td>0.000000</td>\n",
       "      <td>0.000000</td>\n",
       "      <td>0.000000</td>\n",
       "      <td>0.000000</td>\n",
       "      <td>0.000000</td>\n",
       "      <td>0.000000</td>\n",
       "    </tr>\n",
       "    <tr>\n",
       "      <th>50%</th>\n",
       "      <td>6.988599e-02</td>\n",
       "      <td>-9.273778e-02</td>\n",
       "      <td>-1.210553e-01</td>\n",
       "      <td>1.466343e-01</td>\n",
       "      <td>-2.067053e-01</td>\n",
       "      <td>1.000000</td>\n",
       "      <td>0.000000</td>\n",
       "      <td>1.000000</td>\n",
       "      <td>0.000000</td>\n",
       "      <td>0.000000</td>\n",
       "      <td>...</td>\n",
       "      <td>0.000000</td>\n",
       "      <td>1.000000</td>\n",
       "      <td>0.000000</td>\n",
       "      <td>0.000000</td>\n",
       "      <td>0.000000</td>\n",
       "      <td>0.000000</td>\n",
       "      <td>0.000000</td>\n",
       "      <td>0.000000</td>\n",
       "      <td>1.000000</td>\n",
       "      <td>0.000000</td>\n",
       "    </tr>\n",
       "    <tr>\n",
       "      <th>75%</th>\n",
       "      <td>7.316189e-01</td>\n",
       "      <td>4.783913e-01</td>\n",
       "      <td>5.456738e-01</td>\n",
       "      <td>7.151309e-01</td>\n",
       "      <td>4.834512e-01</td>\n",
       "      <td>1.000000</td>\n",
       "      <td>1.000000</td>\n",
       "      <td>1.000000</td>\n",
       "      <td>1.000000</td>\n",
       "      <td>0.000000</td>\n",
       "      <td>...</td>\n",
       "      <td>1.000000</td>\n",
       "      <td>1.000000</td>\n",
       "      <td>0.000000</td>\n",
       "      <td>0.000000</td>\n",
       "      <td>0.000000</td>\n",
       "      <td>0.000000</td>\n",
       "      <td>0.000000</td>\n",
       "      <td>0.000000</td>\n",
       "      <td>1.000000</td>\n",
       "      <td>1.000000</td>\n",
       "    </tr>\n",
       "    <tr>\n",
       "      <th>max</th>\n",
       "      <td>2.496240e+00</td>\n",
       "      <td>3.905165e+00</td>\n",
       "      <td>6.140401e+00</td>\n",
       "      <td>2.289429e+00</td>\n",
       "      <td>4.451851e+00</td>\n",
       "      <td>1.000000</td>\n",
       "      <td>1.000000</td>\n",
       "      <td>1.000000</td>\n",
       "      <td>1.000000</td>\n",
       "      <td>1.000000</td>\n",
       "      <td>...</td>\n",
       "      <td>1.000000</td>\n",
       "      <td>1.000000</td>\n",
       "      <td>1.000000</td>\n",
       "      <td>1.000000</td>\n",
       "      <td>1.000000</td>\n",
       "      <td>1.000000</td>\n",
       "      <td>1.000000</td>\n",
       "      <td>1.000000</td>\n",
       "      <td>1.000000</td>\n",
       "      <td>1.000000</td>\n",
       "    </tr>\n",
       "  </tbody>\n",
       "</table>\n",
       "<p>8 rows × 31 columns</p>\n",
       "</div>"
      ],
      "text/plain": [
       "                age      trestbps          chol       thalach       oldpeak  \\\n",
       "count  3.030000e+02  3.030000e+02  3.030000e+02  3.030000e+02  3.030000e+02   \n",
       "mean   5.825923e-17 -7.146832e-16 -9.828955e-17 -5.203025e-16 -3.140136e-16   \n",
       "std    1.001654e+00  1.001654e+00  1.001654e+00  1.001654e+00  1.001654e+00   \n",
       "min   -2.797624e+00 -2.148802e+00 -2.324160e+00 -3.439267e+00 -8.968617e-01   \n",
       "25%   -7.572802e-01 -6.638668e-01 -6.814943e-01 -7.061105e-01 -8.968617e-01   \n",
       "50%    6.988599e-02 -9.273778e-02 -1.210553e-01  1.466343e-01 -2.067053e-01   \n",
       "75%    7.316189e-01  4.783913e-01  5.456738e-01  7.151309e-01  4.834512e-01   \n",
       "max    2.496240e+00  3.905165e+00  6.140401e+00  2.289429e+00  4.451851e+00   \n",
       "\n",
       "           target       sex_0       sex_1        cp_0        cp_1     ...      \\\n",
       "count  303.000000  303.000000  303.000000  303.000000  303.000000     ...       \n",
       "mean     0.544554    0.316832    0.683168    0.471947    0.165017     ...       \n",
       "std      0.498835    0.466011    0.466011    0.500038    0.371809     ...       \n",
       "min      0.000000    0.000000    0.000000    0.000000    0.000000     ...       \n",
       "25%      0.000000    0.000000    0.000000    0.000000    0.000000     ...       \n",
       "50%      1.000000    0.000000    1.000000    0.000000    0.000000     ...       \n",
       "75%      1.000000    1.000000    1.000000    1.000000    0.000000     ...       \n",
       "max      1.000000    1.000000    1.000000    1.000000    1.000000     ...       \n",
       "\n",
       "          slope_2        ca_0        ca_1        ca_2        ca_3        ca_4  \\\n",
       "count  303.000000  303.000000  303.000000  303.000000  303.000000  303.000000   \n",
       "mean     0.468647    0.577558    0.214521    0.125413    0.066007    0.016502   \n",
       "std      0.499842    0.494765    0.411169    0.331734    0.248704    0.127605   \n",
       "min      0.000000    0.000000    0.000000    0.000000    0.000000    0.000000   \n",
       "25%      0.000000    0.000000    0.000000    0.000000    0.000000    0.000000   \n",
       "50%      0.000000    1.000000    0.000000    0.000000    0.000000    0.000000   \n",
       "75%      1.000000    1.000000    0.000000    0.000000    0.000000    0.000000   \n",
       "max      1.000000    1.000000    1.000000    1.000000    1.000000    1.000000   \n",
       "\n",
       "           thal_0      thal_1      thal_2      thal_3  \n",
       "count  303.000000  303.000000  303.000000  303.000000  \n",
       "mean     0.006601    0.059406    0.547855    0.386139  \n",
       "std      0.081110    0.236774    0.498528    0.487668  \n",
       "min      0.000000    0.000000    0.000000    0.000000  \n",
       "25%      0.000000    0.000000    0.000000    0.000000  \n",
       "50%      0.000000    0.000000    1.000000    0.000000  \n",
       "75%      0.000000    0.000000    1.000000    1.000000  \n",
       "max      1.000000    1.000000    1.000000    1.000000  \n",
       "\n",
       "[8 rows x 31 columns]"
      ]
     },
     "execution_count": 25,
     "metadata": {},
     "output_type": "execute_result"
    }
   ],
   "source": [
    "dataset.describe()"
   ]
  },
  {
   "cell_type": "code",
   "execution_count": 26,
   "metadata": {},
   "outputs": [
    {
     "data": {
      "text/plain": [
       "array([[<matplotlib.axes._subplots.AxesSubplot object at 0x1a25fbb940>,\n",
       "        <matplotlib.axes._subplots.AxesSubplot object at 0x1a25fc4d30>,\n",
       "        <matplotlib.axes._subplots.AxesSubplot object at 0x1a25fd1f98>,\n",
       "        <matplotlib.axes._subplots.AxesSubplot object at 0x1a26003240>,\n",
       "        <matplotlib.axes._subplots.AxesSubplot object at 0x1a2602c4a8>,\n",
       "        <matplotlib.axes._subplots.AxesSubplot object at 0x1a26054710>],\n",
       "       [<matplotlib.axes._subplots.AxesSubplot object at 0x1a2607b940>,\n",
       "        <matplotlib.axes._subplots.AxesSubplot object at 0x1a260a4be0>,\n",
       "        <matplotlib.axes._subplots.AxesSubplot object at 0x1a260a4c18>,\n",
       "        <matplotlib.axes._subplots.AxesSubplot object at 0x1a261000b8>,\n",
       "        <matplotlib.axes._subplots.AxesSubplot object at 0x1a26129320>,\n",
       "        <matplotlib.axes._subplots.AxesSubplot object at 0x1a26154588>],\n",
       "       [<matplotlib.axes._subplots.AxesSubplot object at 0x1a2617c7f0>,\n",
       "        <matplotlib.axes._subplots.AxesSubplot object at 0x1a261a7a58>,\n",
       "        <matplotlib.axes._subplots.AxesSubplot object at 0x1a261cecc0>,\n",
       "        <matplotlib.axes._subplots.AxesSubplot object at 0x1a261faf28>,\n",
       "        <matplotlib.axes._subplots.AxesSubplot object at 0x1a2622b1d0>,\n",
       "        <matplotlib.axes._subplots.AxesSubplot object at 0x1a26254438>],\n",
       "       [<matplotlib.axes._subplots.AxesSubplot object at 0x1a2627e6a0>,\n",
       "        <matplotlib.axes._subplots.AxesSubplot object at 0x1a262a8908>,\n",
       "        <matplotlib.axes._subplots.AxesSubplot object at 0x1a262cfb70>,\n",
       "        <matplotlib.axes._subplots.AxesSubplot object at 0x1a262fadd8>,\n",
       "        <matplotlib.axes._subplots.AxesSubplot object at 0x1a2632e080>,\n",
       "        <matplotlib.axes._subplots.AxesSubplot object at 0x1a263562e8>],\n",
       "       [<matplotlib.axes._subplots.AxesSubplot object at 0x1a2637f550>,\n",
       "        <matplotlib.axes._subplots.AxesSubplot object at 0x1a263aa7b8>,\n",
       "        <matplotlib.axes._subplots.AxesSubplot object at 0x1a263d2a20>,\n",
       "        <matplotlib.axes._subplots.AxesSubplot object at 0x1a263fcc88>,\n",
       "        <matplotlib.axes._subplots.AxesSubplot object at 0x1a26425ef0>,\n",
       "        <matplotlib.axes._subplots.AxesSubplot object at 0x1a26458198>],\n",
       "       [<matplotlib.axes._subplots.AxesSubplot object at 0x1a26481400>,\n",
       "        <matplotlib.axes._subplots.AxesSubplot object at 0x1a264ac668>,\n",
       "        <matplotlib.axes._subplots.AxesSubplot object at 0x1a264d48d0>,\n",
       "        <matplotlib.axes._subplots.AxesSubplot object at 0x1a264ffb38>,\n",
       "        <matplotlib.axes._subplots.AxesSubplot object at 0x1a25ecafd0>,\n",
       "        <matplotlib.axes._subplots.AxesSubplot object at 0x1a25fb3d30>]],\n",
       "      dtype=object)"
      ]
     },
     "execution_count": 26,
     "metadata": {},
     "output_type": "execute_result"
    },
    {
     "data": {
      "image/png": "[encoded data removed]",
      "text/plain": [
       "<Figure size 720x576 with 36 Axes>"
      ]
     },
     "metadata": {
      "needs_background": "light"
     },
     "output_type": "display_data"
    }
   ],
   "source": [
    "dataset.hist(figsize = (10,8))"
   ]
  },
  {
   "cell_type": "code",
   "execution_count": 27,
   "metadata": {},
   "outputs": [],
   "source": [
    "y = dataset['target']\n",
    "# Remove target column from training data\n",
    "X = dataset.drop(['target'], axis = 1)\n",
    "# Separate test data from training data\n",
    "X_train, X_test, y_train, y_test = train_test_split(X, y, test_size = 0.3, random_state = 0)"
   ]
  },
  {
   "cell_type": "code",
   "execution_count": 28,
   "metadata": {},
   "outputs": [],
   "source": [
    "knn_scores = []\n",
    "for k in range(1,21):\n",
    "    knn_classifier = KNeighborsClassifier(n_neighbors = k)\n",
    "    knn_classifier.fit(X_train, y_train)\n",
    "    knn_scores.append(knn_classifier.score(X_test, y_test))"
   ]
  },
  {
   "cell_type": "code",
   "execution_count": 29,
   "metadata": {},
   "outputs": [
    {
     "data": {
      "text/plain": [
       "Text(0.5, 1.0, 'K Neighbors Classifier scores for different K values')"
      ]
     },
     "execution_count": 29,
     "metadata": {},
     "output_type": "execute_result"
    },
    {
     "data": {
      "image/png": "[encoded data removed]",
      "text/plain": [
       "<Figure size 720x720 with 1 Axes>"
      ]
     },
     "metadata": {
      "needs_background": "light"
     },
     "output_type": "display_data"
    }
   ],
   "source": [
    "plt.plot([k for k in range(1, 21)], knn_scores, color = 'red')\n",
    "for i in range(1,21):\n",
    "    plt.text(i, knn_scores[i-1], (i, knn_scores[i-1]))\n",
    "plt.xticks([i for i in range(1, 21)])\n",
    "plt.xlabel('Number of Neighbors (K)')\n",
    "plt.ylabel('Scores')\n",
    "plt.title('K Neighbors Classifier scores for different K values')"
   ]
  },
  {
   "cell_type": "code",
   "execution_count": 30,
   "metadata": {},
   "outputs": [],
   "source": [
    "Xnew = pd.read_csv('./heart.csv')\n",
    "# Drop target column\n",
    "Xnew = Xnew.drop('target', axis=1)"
   ]
  },
  {
   "cell_type": "code",
   "execution_count": 31,
   "metadata": {},
   "outputs": [],
   "source": [
    "# Create dummies for categorical variables in order to quantify them.\n",
    "Xnew = pd.get_dummies(Xnew, columns = ['sex', 'cp', 'fbs', 'restecg', 'exang', 'slope', 'ca', 'thal'])"
   ]
  },
  {
   "cell_type": "code",
   "execution_count": 32,
   "metadata": {},
   "outputs": [],
   "source": [
    "# Scale variables so they all have the same range. This standardization is important for modeling.\n",
    "standardScaler = StandardScaler()\n",
    "columns_to_scale = ['age', 'trestbps', 'chol', 'thalach', 'oldpeak']\n",
    "Xnew[columns_to_scale] = standardScaler.fit_transform(Xnew[columns_to_scale])"
   ]
  },
  {
   "cell_type": "code",
   "execution_count": 33,
   "metadata": {},
   "outputs": [],
   "source": [
    "Xsample = Xnew.loc[[18]]"
   ]
  },
  {
   "cell_type": "code",
   "execution_count": 34,
   "metadata": {},
   "outputs": [
    {
     "data": {
      "text/plain": [
       "array([1])"
      ]
     },
     "execution_count": 34,
     "metadata": {},
     "output_type": "execute_result"
    }
   ],
   "source": [
    "knn_classifier.predict(Xsample)"
   ]
  },
  {
   "cell_type": "code",
   "execution_count": 35,
   "metadata": {},
   "outputs": [
    {
     "data": {
      "text/plain": [
       "KNeighborsClassifier(algorithm='auto', leaf_size=30, metric='minkowski',\n",
       "           metric_params=None, n_jobs=None, n_neighbors=20, p=2,\n",
       "           weights='uniform')"
      ]
     },
     "execution_count": 35,
     "metadata": {},
     "output_type": "execute_result"
    }
   ],
   "source": [
    "knn_classifier"
   ]
  },
  {
   "cell_type": "markdown",
   "metadata": {},
   "source": [
    "## Train a new model using the entire dataset with k=8 neighbors\n"
   ]
  },
  {
   "cell_type": "code",
   "execution_count": 36,
   "metadata": {
    "scrolled": true
   },
   "outputs": [
    {
     "data": {
      "text/plain": [
       "KNeighborsClassifier(algorithm='auto', leaf_size=30, metric='minkowski',\n",
       "           metric_params=None, n_jobs=None, n_neighbors=8, p=2,\n",
       "           weights='uniform')"
      ]
     },
     "execution_count": 36,
     "metadata": {},
     "output_type": "execute_result"
    }
   ],
   "source": [
    "knn_classifier_fullset = KNeighborsClassifier(n_neighbors = 8)\n",
    "knn_classifier_fullset.fit(X, y)"
   ]
  },
  {
   "cell_type": "markdown",
   "metadata": {},
   "source": [
    "## Pickle model"
   ]
  },
  {
   "cell_type": "code",
   "execution_count": 37,
   "metadata": {
    "scrolled": false
   },
   "outputs": [
    {
     "name": "stdout",
     "output_type": "stream",
     "text": [
      "Requirement already satisfied: dill in /Library/Frameworks/Python.framework/Versions/3.7/lib/python3.7/site-packages (0.3.0)\r\n",
      "\u001b[33mWARNING: You are using pip version 19.2.1, however version 19.2.2 is available.\r\n",
      "You should consider upgrading via the 'pip install --upgrade pip' command.\u001b[0m\r\n"
     ]
    }
   ],
   "source": [
    "!pip install dill"
   ]
  },
  {
   "cell_type": "code",
   "execution_count": 38,
   "metadata": {
    "scrolled": false
   },
   "outputs": [],
   "source": [
    "import sys"
   ]
  },
  {
   "cell_type": "code",
   "execution_count": 39,
   "metadata": {},
   "outputs": [],
   "source": [
    "sys.path.append(\"/Library/Frameworks/Python.framework/Versions/3.7/lib/python3.7/site-packages\")"
   ]
  },
  {
   "cell_type": "code",
   "execution_count": 40,
   "metadata": {},
   "outputs": [],
   "source": [
    "import dill as pickle"
   ]
  },
  {
   "cell_type": "code",
   "execution_count": 41,
   "metadata": {},
   "outputs": [],
   "source": [
    "filename = 'model_v1.pk'"
   ]
  },
  {
   "cell_type": "code",
   "execution_count": 42,
   "metadata": {},
   "outputs": [],
   "source": [
    "with open('./flask_api/models/'+filename, 'wb') as file:\n",
    "\tpickle.dump(knn_classifier_fullset, file)"
   ]
  },
  {
   "cell_type": "markdown",
   "metadata": {},
   "source": [
    "## Load and test pickled model"
   ]
  },
  {
   "cell_type": "code",
   "execution_count": 44,
   "metadata": {},
   "outputs": [],
   "source": [
    "with open('./flask_api/models/'+filename ,'rb') as f:\n",
    "    loaded_model = pickle.load(f)\n"
   ]
  },
  {
   "cell_type": "code",
   "execution_count": null,
   "metadata": {},
   "outputs": [],
   "source": []
  },
  {
   "cell_type": "code",
   "execution_count": 45,
   "metadata": {},
   "outputs": [
    {
     "ename": "NameError",
     "evalue": "name 'test_df' is not defined",
     "output_type": "error",
     "traceback": [
      "\u001b[0;31m---------------------------------------------------------------------------\u001b[0m",
      "\u001b[0;31mNameError\u001b[0m                                 Traceback (most recent call last)",
      "\u001b[0;32m<ipython-input-45-6257e74fa224>\u001b[0m in \u001b[0;36m<module>\u001b[0;34m\u001b[0m\n\u001b[0;32m----> 1\u001b[0;31m \u001b[0mloaded_model\u001b[0m\u001b[0;34m.\u001b[0m\u001b[0mpredict\u001b[0m\u001b[0;34m(\u001b[0m\u001b[0mtest_df\u001b[0m\u001b[0;34m)\u001b[0m\u001b[0;34m\u001b[0m\u001b[0;34m\u001b[0m\u001b[0m\n\u001b[0m",
      "\u001b[0;31mNameError\u001b[0m: name 'test_df' is not defined"
     ]
    }
   ],
   "source": [
    "loaded_model.predict(test_df)"
   ]
  },
  {
   "cell_type": "code",
   "execution_count": 46,
   "metadata": {},
   "outputs": [
    {
     "name": "stdout",
     "output_type": "stream",
     "text": [
      "          age  trestbps      chol   thalach   oldpeak  sex_0  sex_1  cp_0  \\\n",
      "0    0.952197  0.763956 -0.256334  0.015443  1.087338      0      1     0   \n",
      "1   -1.915313 -0.092738  0.072199  1.633471  2.122573      0      1     0   \n",
      "2   -1.474158 -0.092738 -0.816773  0.977514  0.310912      1      0     0   \n",
      "3    0.180175 -0.663867 -0.198357  1.239897 -0.206705      0      1     0   \n",
      "4    0.290464 -0.663867  2.082050  0.583939 -0.379244      1      0     1   \n",
      "5    0.290464  0.478391 -1.048678 -0.072018 -0.551783      0      1     1   \n",
      "6    0.180175  0.478391  0.922521  0.146634  0.224643      1      0     0   \n",
      "7   -1.143291 -0.663867  0.323431  1.021244 -0.896862      0      1     0   \n",
      "8   -0.260980  2.306004 -0.913400  0.540209 -0.465514      0      1     0   \n",
      "9    0.290464  1.049520 -1.512490  1.064975  0.483451      0      1     0   \n",
      "10  -0.040403  0.478391 -0.140381  0.452748  0.138373      0      1     1   \n",
      "11  -0.702136 -0.092738  0.555337 -0.465593 -0.724323      1      0     0   \n",
      "12  -0.591847 -0.092738  0.381407  0.933783 -0.379244      0      1     0   \n",
      "13   1.062485 -1.234996 -0.681494 -0.246940  0.655990      0      1     0   \n",
      "14   0.400752  1.049520  0.709940  0.540209 -0.034166      1      0     0   \n",
      "15  -0.481558 -0.663867 -0.526890  0.365287  0.483451      1      0     0   \n",
      "16   0.400752 -0.663867  1.811493  0.977514 -0.896862      1      0     0   \n",
      "17   1.283063  1.049520 -0.391612 -1.558855  1.346147      1      0     0   \n",
      "18  -1.253580  1.049520  0.014223  0.933783  0.397182      0      1     1   \n",
      "19   1.613930  0.478391 -0.140381  0.059173  0.655990      1      0     0   \n",
      "20   0.511041  0.192827 -0.237008  0.496478 -0.465514      0      1     1   \n",
      "21  -1.143291 -0.092738 -0.256334  1.283627 -0.551783      0      1     0   \n",
      "22  -1.363869  0.478391 -0.391612  1.239897 -0.896862      0      1     1   \n",
      "23   0.731619  1.049520 -0.063079 -0.553054 -0.034166      0      1     0   \n",
      "24  -1.584446  0.478391 -0.913400  1.239897  0.310912      0      1     0   \n",
      "25   1.834507  1.620649  1.077125  0.540209 -0.551783      1      0     0   \n",
      "26   0.511041  1.049520 -0.662169  0.321556  0.483451      0      1     0   \n",
      "27  -0.371269 -1.234996 -1.377212 -1.165281 -0.379244      0      1     0   \n",
      "28   1.172774  0.478391  3.299555  0.321556 -0.206705      1      0     0   \n",
      "29  -0.150692 -0.092738 -0.952051  0.102904  0.138373      0      1     0   \n",
      "..        ...       ...       ...       ...       ...    ...    ...   ...   \n",
      "273  0.400752 -1.806125 -0.237008  0.277826 -0.810592      0      1     1   \n",
      "274 -0.812425 -1.234996  0.555337 -1.383933 -0.034166      0      1     1   \n",
      "275 -0.260980 -0.378302 -0.662169  0.802592 -0.034166      0      1     1   \n",
      "276  0.400752  0.821069 -0.546216 -1.952430  0.828529      0      1     1   \n",
      "277  0.290464 -0.435415  0.284780 -0.378132 -0.638053      0      1     0   \n",
      "278  0.400752  0.249940  1.405658  0.102904 -0.896862      1      0     0   \n",
      "279  0.731619  0.364165 -1.551141 -1.077820  2.208842      0      1     1   \n",
      "280 -1.363869  0.249940  1.328356 -1.077820  0.655990      0      1     1   \n",
      "281 -0.260980 -0.206964 -0.816773  0.277826 -0.034166      0      1     1   \n",
      "282  0.511041 -0.321189 -0.546216 -0.684245  1.001069      0      1     0   \n",
      "283 -1.584446  1.163746 -0.449589  1.371088 -0.896862      0      1     1   \n",
      "284  0.731619  0.478391 -0.758796 -0.509323  0.742260      0      1     1   \n",
      "285 -0.922713  0.478391  1.251054 -1.296472  0.655990      0      1     1   \n",
      "286  0.511041  0.135714 -0.816773  0.540209 -0.206705      0      1     0   \n",
      "287  0.290464  1.277972 -0.275659  0.627670 -0.896862      0      1     0   \n",
      "288  0.290464 -1.234996  1.714865 -0.290671  1.691225      0      1     1   \n",
      "289  0.069886 -0.206964 -0.797447 -0.859167  0.828529      1      0     1   \n",
      "290  0.731619  0.935294 -0.836098  0.496478 -0.896862      0      1     1   \n",
      "291  0.400752 -1.006544  1.386332 -0.421862  2.898999      0      1     1   \n",
      "292  0.400752  2.191778 -0.410938 -0.159479  1.518686      1      0     1   \n",
      "293  1.393352  1.163746 -0.662169  0.015443 -0.206705      0      1     0   \n",
      "294 -1.143291 -0.663867 -1.493165 -0.246940  1.518686      0      1     1   \n",
      "295  0.952197  0.478391 -1.145306 -0.246940  2.553921      0      1     1   \n",
      "296  0.952197 -0.435415 -0.952051 -0.596784 -0.896862      1      0     1   \n",
      "297  0.511041  1.849101 -1.357886 -2.608388 -0.034166      0      1     1   \n",
      "298  0.290464  0.478391 -0.101730 -1.165281 -0.724323      1      0     1   \n",
      "299 -1.033002 -1.234996  0.342756 -0.771706  0.138373      0      1     0   \n",
      "300  1.503641  0.706843 -1.029353 -0.378132  2.036303      0      1     1   \n",
      "301  0.290464 -0.092738 -2.227533 -1.515125  0.138373      0      1     1   \n",
      "302  0.290464 -0.092738 -0.198357  1.064975 -0.896862      1      0     0   \n",
      "\n",
      "     cp_1  cp_2   ...    slope_2  ca_0  ca_1  ca_2  ca_3  ca_4  thal_0  \\\n",
      "0       0     0   ...          0     1     0     0     0     0       0   \n",
      "1       0     1   ...          0     1     0     0     0     0       0   \n",
      "2       1     0   ...          1     1     0     0     0     0       0   \n",
      "3       1     0   ...          1     1     0     0     0     0       0   \n",
      "4       0     0   ...          1     1     0     0     0     0       0   \n",
      "5       0     0   ...          0     1     0     0     0     0       0   \n",
      "6       1     0   ...          0     1     0     0     0     0       0   \n",
      "7       1     0   ...          1     1     0     0     0     0       0   \n",
      "8       0     1   ...          1     1     0     0     0     0       0   \n",
      "9       0     1   ...          1     1     0     0     0     0       0   \n",
      "10      0     0   ...          1     1     0     0     0     0       0   \n",
      "11      0     1   ...          1     1     0     0     0     0       0   \n",
      "12      1     0   ...          1     1     0     0     0     0       0   \n",
      "13      0     0   ...          0     1     0     0     0     0       0   \n",
      "14      0     0   ...          1     1     0     0     0     0       0   \n",
      "15      0     1   ...          0     1     0     0     0     0       0   \n",
      "16      0     1   ...          1     1     0     0     0     0       0   \n",
      "17      0     0   ...          0     1     0     0     0     0       0   \n",
      "18      0     0   ...          1     1     0     0     0     0       0   \n",
      "19      0     0   ...          1     0     0     1     0     0       0   \n",
      "20      0     0   ...          0     1     0     0     0     0       0   \n",
      "21      0     1   ...          1     1     0     0     0     0       0   \n",
      "22      0     0   ...          1     1     0     0     0     0       0   \n",
      "23      0     1   ...          0     1     0     0     0     0       0   \n",
      "24      0     0   ...          1     1     0     0     0     0       0   \n",
      "25      1     0   ...          1     0     0     1     0     0       0   \n",
      "26      0     1   ...          1     1     0     0     0     0       0   \n",
      "27      0     1   ...          1     1     0     0     0     0       0   \n",
      "28      0     1   ...          1     0     1     0     0     0       0   \n",
      "29      0     1   ...          0     1     0     0     0     0       0   \n",
      "..    ...   ...   ...        ...   ...   ...   ...   ...   ...     ...   \n",
      "273     0     0   ...          1     0     1     0     0     0       0   \n",
      "274     0     0   ...          0     0     1     0     0     0       0   \n",
      "275     0     0   ...          1     0     0     1     0     0       0   \n",
      "276     0     0   ...          0     0     1     0     0     0       0   \n",
      "277     1     0   ...          1     1     0     0     0     0       0   \n",
      "278     1     0   ...          1     0     0     1     0     0       0   \n",
      "279     0     0   ...          0     0     1     0     0     0       0   \n",
      "280     0     0   ...          0     1     0     0     0     0       0   \n",
      "281     0     0   ...          0     1     0     0     0     0       1   \n",
      "282     0     1   ...          0     0     1     0     0     0       0   \n",
      "283     0     0   ...          1     1     0     0     0     0       0   \n",
      "284     0     0   ...          1     0     1     0     0     0       0   \n",
      "285     0     0   ...          0     0     0     1     0     0       0   \n",
      "286     0     0   ...          1     0     0     1     0     0       0   \n",
      "287     1     0   ...          1     0     1     0     0     0       0   \n",
      "288     0     0   ...          0     0     1     0     0     0       0   \n",
      "289     0     0   ...          0     0     1     0     0     0       0   \n",
      "290     0     0   ...          1     0     1     0     0     0       0   \n",
      "291     0     0   ...          0     0     0     0     1     0       0   \n",
      "292     0     0   ...          0     0     0     1     0     0       0   \n",
      "293     0     1   ...          0     1     0     0     0     0       0   \n",
      "294     0     0   ...          0     1     0     0     0     0       0   \n",
      "295     0     0   ...          1     0     0     1     0     0       0   \n",
      "296     0     0   ...          0     1     0     0     0     0       0   \n",
      "297     0     0   ...          0     0     0     1     0     0       0   \n",
      "298     0     0   ...          0     1     0     0     0     0       0   \n",
      "299     0     0   ...          0     1     0     0     0     0       0   \n",
      "300     0     0   ...          0     0     0     1     0     0       0   \n",
      "301     0     0   ...          0     0     1     0     0     0       0   \n",
      "302     1     0   ...          0     0     1     0     0     0       0   \n",
      "\n",
      "     thal_1  thal_2  thal_3  \n",
      "0         1       0       0  \n",
      "1         0       1       0  \n",
      "2         0       1       0  \n",
      "3         0       1       0  \n",
      "4         0       1       0  \n",
      "5         1       0       0  \n",
      "6         0       1       0  \n",
      "7         0       0       1  \n",
      "8         0       0       1  \n",
      "9         0       1       0  \n",
      "10        0       1       0  \n",
      "11        0       1       0  \n",
      "12        0       1       0  \n",
      "13        0       1       0  \n",
      "14        0       1       0  \n",
      "15        0       1       0  \n",
      "16        0       1       0  \n",
      "17        0       1       0  \n",
      "18        0       1       0  \n",
      "19        0       1       0  \n",
      "20        0       0       1  \n",
      "21        0       1       0  \n",
      "22        0       1       0  \n",
      "23        0       1       0  \n",
      "24        0       0       1  \n",
      "25        0       1       0  \n",
      "26        0       1       0  \n",
      "27        0       1       0  \n",
      "28        0       1       0  \n",
      "29        0       1       0  \n",
      "..      ...     ...     ...  \n",
      "273       0       0       1  \n",
      "274       0       1       0  \n",
      "275       0       0       1  \n",
      "276       0       0       1  \n",
      "277       0       0       1  \n",
      "278       0       1       0  \n",
      "279       0       1       0  \n",
      "280       1       0       0  \n",
      "281       0       0       0  \n",
      "282       1       0       0  \n",
      "283       0       0       1  \n",
      "284       0       0       1  \n",
      "285       0       0       1  \n",
      "286       0       1       0  \n",
      "287       0       1       0  \n",
      "288       0       0       1  \n",
      "289       0       0       1  \n",
      "290       0       0       1  \n",
      "291       1       0       0  \n",
      "292       1       0       0  \n",
      "293       0       0       1  \n",
      "294       1       0       0  \n",
      "295       0       0       1  \n",
      "296       0       1       0  \n",
      "297       1       0       0  \n",
      "298       0       0       1  \n",
      "299       0       0       1  \n",
      "300       0       0       1  \n",
      "301       0       0       1  \n",
      "302       0       1       0  \n",
      "\n",
      "[303 rows x 30 columns]\n"
     ]
    }
   ],
   "source": [
    "print(X)"
   ]
  },
  {
   "cell_type": "code",
   "execution_count": 59,
   "metadata": {},
   "outputs": [],
   "source": [
    "X_1 = X.iloc[4:5]"
   ]
  },
  {
   "cell_type": "code",
   "execution_count": 60,
   "metadata": {},
   "outputs": [
    {
     "name": "stdout",
     "output_type": "stream",
     "text": [
      "        age  trestbps     chol   thalach   oldpeak  sex_0  sex_1  cp_0  cp_1  \\\n",
      "4  0.290464 -0.663867  2.08205  0.583939 -0.379244      1      0     1     0   \n",
      "\n",
      "   cp_2   ...    slope_2  ca_0  ca_1  ca_2  ca_3  ca_4  thal_0  thal_1  \\\n",
      "4     0   ...          1     1     0     0     0     0       0       0   \n",
      "\n",
      "   thal_2  thal_3  \n",
      "4       1       0  \n",
      "\n",
      "[1 rows x 30 columns]\n"
     ]
    }
   ],
   "source": [
    "print(X_1)"
   ]
  },
  {
   "cell_type": "code",
   "execution_count": 64,
   "metadata": {},
   "outputs": [
    {
     "data": {
      "text/plain": [
       "array([1])"
      ]
     },
     "execution_count": 64,
     "metadata": {},
     "output_type": "execute_result"
    }
   ],
   "source": [
    "loaded_model.predict(X_1)"
   ]
  },
  {
   "cell_type": "code",
   "execution_count": null,
   "metadata": {},
   "outputs": [],
   "source": []
  }
 ],
 "metadata": {
  "kernelspec": {
   "display_name": "Python 3",
   "language": "python",
   "name": "python3"
  },
  "language_info": {
   "codemirror_mode": {
    "name": "ipython",
    "version": 3
   },
   "file_extension": ".py",
   "mimetype": "text/x-python",
   "name": "python",
   "nbconvert_exporter": "python",
   "pygments_lexer": "ipython3",
   "version": "3.7.1"
  }
 },
 "nbformat": 4,
 "nbformat_minor": 2
}
